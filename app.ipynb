{
 "cells": [
  {
   "cell_type": "markdown",
   "metadata": {},
   "source": [
    "# Setup"
   ]
  },
  {
   "cell_type": "code",
   "execution_count": 1,
   "metadata": {},
   "outputs": [],
   "source": [
    "# import ipywidgets as widgets                                        # import widgets\n",
    "# import pandas as pd                                                 # import Pandas  API\n",
    "# import gspread                                                      # import sheets API\n",
    "# from oauth2client.service_account import ServiceAccountCredentials  # authenticate oneself\n",
    "# from IPython.display import HTML                                    # HTML link"
   ]
  },
  {
   "cell_type": "code",
   "execution_count": 2,
   "metadata": {},
   "outputs": [],
   "source": [
    "# # importing spreadsheet credentials\n",
    "# scope = ['https://spreadsheets.google.com/feeds']                   \n",
    "# credentials = ServiceAccountCredentials.from_json_keyfile_name('./DriveAPIclient_id.json', scope) #file with auth info\n",
    "# gc = gspread.authorize(credentials)"
   ]
  },
  {
   "cell_type": "code",
   "execution_count": 3,
   "metadata": {},
   "outputs": [],
   "source": [
    "# # spreadsheet information specific to this spreadsheet\n",
    "# spreadsheet_key = '1YYzMcXzEnyywaCjpPPYyA4Jz3MBymZaq64CetQR9oFY' #need Google Sheet Key Each Time\n",
    "# book = gc.open_by_key(spreadsheet_key)                           #opens spreadsheet\n",
    "# worksheet = book.worksheet(\"Social Justice Education\")           #Need Name of Worksheet Each Time\n",
    "# table = worksheet.get_all_values()"
   ]
  },
  {
   "cell_type": "code",
   "execution_count": 4,
   "metadata": {
    "scrolled": false
   },
   "outputs": [],
   "source": [
    "# # convert table data into dataframe and previewing\n",
    "# df = pd.DataFrame(table[1:],columns = table[0])\n",
    "# df.columns = ['Issue', 'Topic', 'Title', 'Medium', 'Link']\n",
    "\n",
    "# # creating the link column as a \"resource link\"\n",
    "# df['Link'] = df['Link'].apply(\n",
    "#     lambda x: '<a href=\"{0}\" target=\"_blank\">resource_link</a>'.format(x) if x != ''\n",
    "#     else x)"
   ]
  },
  {
   "cell_type": "code",
   "execution_count": 1,
   "metadata": {},
   "outputs": [],
   "source": [
    "# TEST\n",
    "import numpy as np\n",
    "import matplotlib.pyplot as plt\n",
    "from ipywidgets import interactive\n",
    "%matplotlib inline"
   ]
  },
  {
   "cell_type": "code",
   "execution_count": 2,
   "metadata": {},
   "outputs": [
    {
     "data": {
      "application/vnd.jupyter.widget-view+json": {
       "model_id": "bc6ce0e426b448879b3e327bfcbbf9bf",
       "version_major": 2,
       "version_minor": 0
      },
      "text/plain": [
       "interactive(children=(FloatSlider(value=-1.0, description='a', max=0.0, min=-1.0), FloatSlider(value=0.55, des…"
      ]
     },
     "metadata": {},
     "output_type": "display_data"
    }
   ],
   "source": [
    "def plot_func(a, f):\n",
    "    plt.figure(2)\n",
    "    x = np.linspace(0, 2*np.pi, num=1000)\n",
    "    y = a*np.sin(1/f*x)\n",
    "    plt.plot(x,y)\n",
    "    plt.ylim(-1.1, 1.1)\n",
    "    plt.title('a sin(f)')\n",
    "    plt.show()\n",
    "\n",
    "interactive_plot = interactive(plot_func, a=(-1,0,0.1), f=(0.1, 1))\n",
    "output = interactive_plot.children[-1]\n",
    "output.layout.height = '300px'\n",
    "interactive_plot"
   ]
  },
  {
   "cell_type": "markdown",
   "metadata": {},
   "source": [
    "<br>\n",
    "\n",
    "# UI Work"
   ]
  },
  {
   "cell_type": "code",
   "execution_count": 5,
   "metadata": {},
   "outputs": [
    {
     "data": {
      "application/vnd.jupyter.widget-view+json": {
       "model_id": "8b35f47cc29742ec92be42aa0fface2f",
       "version_major": 2,
       "version_minor": 0
      },
      "text/plain": [
       "interactive(children=(Dropdown(description='issue', options=('All', 'Allyship', 'Economic Disparity and System…"
      ]
     },
     "metadata": {},
     "output_type": "display_data"
    },
    {
     "data": {
      "text/plain": [
       "<function __main__.view(issue, topic)>"
      ]
     },
     "execution_count": 5,
     "metadata": {},
     "output_type": "execute_result"
    }
   ],
   "source": [
    "# output = widgets.Output()\n",
    "\n",
    "# # creating the issues widget\n",
    "# issue_options = df.Issue.unique().tolist()\n",
    "# issue_options.append('All')\n",
    "# issue_options.sort()\n",
    "# issue_widget = widgets.Dropdown(options = issue_options)\n",
    "\n",
    "# # initializing the topic widget\n",
    "# topic_widget = widgets.Dropdown()\n",
    "\n",
    "# def update(*args):\n",
    "#     \"\"\"Update the content of the topic based on issue selection\n",
    "#     Input: topic options from the dataframe\n",
    "#     Output: topic options as a widget\"\"\"\n",
    "#     topic_options = df[df.Issue == issue_widget.value].Topic.unique().tolist()\n",
    "#     topic_options.append('All')\n",
    "#     topic_options.sort()\n",
    "#     topic_widget.options = topic_options\n",
    "\n",
    "# # observing the update function (topic widget) within the issues widget\n",
    "# issue_widget.observe(update)\n",
    "\n",
    "# # view the dataframe for topic and issue including 'All'\n",
    "# def view(issue, topic):\n",
    "#     \"\"\"Creating the dataframe to view based on widget selections above\n",
    "#     Input: widget selections\n",
    "#     Output: dataframe with columns Title, Medium, and Link\n",
    "#     \"\"\"\n",
    "#     if issue == 'All':\n",
    "#         df_view = df\n",
    "#     elif topic == 'All':\n",
    "#         df_view = df[df.Issue == issue][['Title', 'Medium', 'Link']]\n",
    "#     else:\n",
    "#         df_view = df[(df.Issue == issue) & (df.Topic == topic)][['Title', 'Medium', 'Link']] \n",
    "#     return HTML(df_view.to_html(escape=False, index=False))\n",
    "\n",
    "# # interaction argument with dataframe and widgets\n",
    "# widgets.interact(view,\n",
    "#          issue = issue_widget,\n",
    "#          topic = topic_widget)"
   ]
  }
 ],
 "metadata": {
  "kernelspec": {
   "display_name": "Python 3",
   "language": "python",
   "name": "python3"
  },
  "language_info": {
   "codemirror_mode": {
    "name": "ipython",
    "version": 3
   },
   "file_extension": ".py",
   "mimetype": "text/x-python",
   "name": "python",
   "nbconvert_exporter": "python",
   "pygments_lexer": "ipython3",
   "version": "3.7.7"
  },
  "toc": {
   "base_numbering": 1,
   "nav_menu": {},
   "number_sections": true,
   "sideBar": true,
   "skip_h1_title": false,
   "title_cell": "Table of Contents",
   "title_sidebar": "Contents",
   "toc_cell": false,
   "toc_position": {},
   "toc_section_display": true,
   "toc_window_display": false
  },
  "varInspector": {
   "cols": {
    "lenName": 16,
    "lenType": 16,
    "lenVar": 40
   },
   "kernels_config": {
    "python": {
     "delete_cmd_postfix": "",
     "delete_cmd_prefix": "del ",
     "library": "var_list.py",
     "varRefreshCmd": "print(var_dic_list())"
    },
    "r": {
     "delete_cmd_postfix": ") ",
     "delete_cmd_prefix": "rm(",
     "library": "var_list.r",
     "varRefreshCmd": "cat(var_dic_list()) "
    }
   },
   "types_to_exclude": [
    "module",
    "function",
    "builtin_function_or_method",
    "instance",
    "_Feature"
   ],
   "window_display": false
  }
 },
 "nbformat": 4,
 "nbformat_minor": 4
}
